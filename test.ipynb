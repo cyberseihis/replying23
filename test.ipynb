{
 "cells": [
  {
   "cell_type": "code",
   "execution_count": 13,
   "metadata": {},
   "outputs": [],
   "source": [
    "from main import parsing\n",
    "import snake\n",
    "import grid\n",
    "from importlib import reload"
   ]
  },
  {
   "cell_type": "code",
   "execution_count": 14,
   "metadata": {},
   "outputs": [
    {
     "name": "stdout",
     "output_type": "stream",
     "text": [
      "[['1', '5', '3', '6', '3', '8', '5', '2', '6', '8'], ['6', '4', '*', '0', '5', '3', '7', '5', '2', '8'], ['3', '4', '5', '0', '3', '6', '4', '*', '5', '7'], ['3', '5', '6', '3', '0', '3', '5', '3', '4', '6'], ['3', '6', '7', '*', '3', '0', '6', '4', '5', '7'], ['3', '7', '8', '5', '3', '6', '0', '4', '5', '6']]\n"
     ]
    }
   ],
   "source": [
    "column,rows,number_of_snakes,snake_lengths,grd = parsing()\n",
    "print(grd)"
   ]
  },
  {
   "cell_type": "code",
   "execution_count": 15,
   "metadata": {},
   "outputs": [
    {
     "name": "stdout",
     "output_type": "stream",
     "text": [
      "Wormholes: {(1, 2), (2, 7), (4, 3)}\n",
      "[['1' '5' '3' '6' '3' '8' '5' '2' '6' '8']\n",
      " ['6' '4' '0' '0' '5' '3' '7' '5' '2' '8']\n",
      " ['3' '4' '5' '0' '3' '6' '4' '0' '5' '7']\n",
      " ['3' '5' '6' '3' '0' '3' '5' '3' '4' '6']\n",
      " ['3' '6' '7' '0' '3' '0' '6' '4' '5' '7']\n",
      " ['3' '7' '8' '5' '3' '6' '0' '4' '5' '6']]\n",
      "{(1, 2), (2, 7), (4, 3)}\n"
     ]
    }
   ],
   "source": [
    "reload(grid)\n",
    "glob_grid = grid.Grid(grd)\n",
    "print(glob_grid.grid_weigths)\n",
    "print(glob_grid.wormholes)"
   ]
  },
  {
   "cell_type": "code",
   "execution_count": 24,
   "metadata": {},
   "outputs": [
    {
     "name": "stdout",
     "output_type": "stream",
     "text": [
      "[((2, 3), <Direction.R: 4>), ((3, 2), <Direction.D: 2>), ((1, 2), <Direction.U: 1>)]\n"
     ]
    }
   ],
   "source": [
    "reload(snake)\n",
    "reload(grid)\n",
    "s = snake.Snake(grid=glob_grid)\n",
    "s.create_interactive(5,(2,2))\n",
    "print(s.int_options())\n",
    "#print([glob_grid.grid_weigths[id] for id in s.segments])"
   ]
  },
  {
   "cell_type": "code",
   "execution_count": 25,
   "metadata": {},
   "outputs": [
    {
     "name": "stdout",
     "output_type": "stream",
     "text": [
      "['0', '6', '5']\n",
      "[[0. 0. 0. 0. 0. 0. 0. 0. 0. 0.]\n",
      " [0. 1. 0. 0. 0. 0. 0. 0. 0. 0.]\n",
      " [0. 1. 1. 0. 0. 0. 0. 0. 0. 0.]\n",
      " [0. 0. 0. 0. 0. 0. 0. 0. 0. 0.]\n",
      " [0. 0. 0. 0. 0. 0. 0. 0. 0. 0.]\n",
      " [0. 0. 0. 0. 0. 0. 0. 0. 0. 0.]]\n"
     ]
    },
    {
     "ename": "ValueError",
     "evalue": "You are trying to move occupied segment: (2, 1)",
     "output_type": "error",
     "traceback": [
      "\u001b[1;31m---------------------------------------------------------------------------\u001b[0m",
      "\u001b[1;31mValueError\u001b[0m                                Traceback (most recent call last)",
      "Cell \u001b[1;32mIn[25], line 7\u001b[0m\n\u001b[0;32m      5\u001b[0m \u001b[39m#s.int_add_seg(s.int_options()[0])\u001b[39;00m\n\u001b[0;32m      6\u001b[0m \u001b[39mprint\u001b[39m(glob_grid\u001b[39m.\u001b[39mgrid_snakes)\n\u001b[1;32m----> 7\u001b[0m s\u001b[39m.\u001b[39;49mint_mv_seg(grid\u001b[39m.\u001b[39;49mDirection\u001b[39m.\u001b[39;49mD)\n",
      "File \u001b[1;32md:\\U_targyak\\ERASMUS\\replying23\\snake.py:45\u001b[0m, in \u001b[0;36mSnake.int_mv_seg\u001b[1;34m(self, direction)\u001b[0m\n\u001b[0;32m     43\u001b[0m segment,\u001b[39mdir\u001b[39m \u001b[39m=\u001b[39m \u001b[39mself\u001b[39m\u001b[39m.\u001b[39mgrid\u001b[39m.\u001b[39mgetNext(tail,direction)\n\u001b[0;32m     44\u001b[0m \u001b[39mif\u001b[39;00m \u001b[39mself\u001b[39m\u001b[39m.\u001b[39mgrid\u001b[39m.\u001b[39mis_occupied(segment):\n\u001b[1;32m---> 45\u001b[0m     \u001b[39mraise\u001b[39;00m \u001b[39mValueError\u001b[39;00m(\u001b[39mf\u001b[39m\u001b[39m\"\u001b[39m\u001b[39mYou are trying to move occupied segment: \u001b[39m\u001b[39m{\u001b[39;00msegment\u001b[39m}\u001b[39;00m\u001b[39m\"\u001b[39m)\n\u001b[0;32m     46\u001b[0m \u001b[39mself\u001b[39m\u001b[39m.\u001b[39msegments\u001b[39m.\u001b[39mappend(segment)\n\u001b[0;32m     47\u001b[0m \u001b[39mself\u001b[39m\u001b[39m.\u001b[39mdirections\u001b[39m.\u001b[39mappend(direction)\n",
      "\u001b[1;31mValueError\u001b[0m: You are trying to move occupied segment: (2, 1)"
     ]
    }
   ],
   "source": [
    "s = snake.Snake(grid=glob_grid)\n",
    "s.create_interactive(5,(1,1))\n",
    "s.int_options()\n",
    "print([glob_grid.grid_weigths[id] for id,dir in s.int_options()])\n",
    "#s.int_add_seg(s.int_options()[0])\n",
    "print(glob_grid.grid_snakes)\n",
    "s.int_mv_seg(grid.Direction.D)"
   ]
  }
 ],
 "metadata": {
  "kernelspec": {
   "display_name": "Python 3",
   "language": "python",
   "name": "python3"
  },
  "language_info": {
   "codemirror_mode": {
    "name": "ipython",
    "version": 3
   },
   "file_extension": ".py",
   "mimetype": "text/x-python",
   "name": "python",
   "nbconvert_exporter": "python",
   "pygments_lexer": "ipython3",
   "version": "3.10.7 (tags/v3.10.7:6cc6b13, Sep  5 2022, 14:08:36) [MSC v.1933 64 bit (AMD64)]"
  },
  "orig_nbformat": 4,
  "vscode": {
   "interpreter": {
    "hash": "b239acf2821489c398a9848859e84ce39b99d30cc4031fb37cc7461da3883639"
   }
  }
 },
 "nbformat": 4,
 "nbformat_minor": 2
}
