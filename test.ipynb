{
 "cells": [
  {
   "cell_type": "code",
   "execution_count": 7,
   "metadata": {},
   "outputs": [],
   "source": [
    "from main import parsing\n",
    "from snake import Snake\n",
    "from grid import Grid,Direction"
   ]
  },
  {
   "cell_type": "code",
   "execution_count": 8,
   "metadata": {},
   "outputs": [],
   "source": [
    "column,rows,number_of_snakes,snake_lengths,grid = parsing()"
   ]
  },
  {
   "cell_type": "code",
   "execution_count": 15,
   "metadata": {},
   "outputs": [
    {
     "name": "stdout",
     "output_type": "stream",
     "text": [
      "[['1' '5' '3' '6' '3' '8' '5' '2' '6' '8']\n",
      " ['6' '4' '0' '0' '5' '3' '7' '5' '2' '8']\n",
      " ['3' '4' '5' '0' '3' '6' '4' '0' '5' '7']\n",
      " ['3' '5' '6' '3' '0' '3' '5' '3' '4' '6']\n",
      " ['3' '6' '7' '0' '3' '0' '6' '4' '5' '7']\n",
      " ['3' '7' '8' '5' '3' '6' '0' '4' '5' '6']]\n"
     ]
    }
   ],
   "source": [
    "glob_grid = Grid(grid)\n",
    "print(glob_grid.grid_weigths)"
   ]
  },
  {
   "cell_type": "code",
   "execution_count": null,
   "metadata": {},
   "outputs": [],
   "source": [
    "s = Snake()"
   ]
  }
 ],
 "metadata": {
  "kernelspec": {
   "display_name": ".venv",
   "language": "python",
   "name": "python3"
  },
  "language_info": {
   "codemirror_mode": {
    "name": "ipython",
    "version": 3
   },
   "file_extension": ".py",
   "mimetype": "text/x-python",
   "name": "python",
   "nbconvert_exporter": "python",
   "pygments_lexer": "ipython3",
   "version": "3.10.7"
  },
  "orig_nbformat": 4
 },
 "nbformat": 4,
 "nbformat_minor": 2
}
