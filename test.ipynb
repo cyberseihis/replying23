{
 "cells": [
  {
   "cell_type": "code",
   "execution_count": 1,
   "metadata": {},
   "outputs": [
    {
     "name": "stdout",
     "output_type": "stream",
     "text": [
      "1 5 3 6 3 8 5 2 6 8 \n",
      "\n",
      "6 4 * 0 5 3 7 5 2 8 \n",
      "\n",
      "3 4 5 0 3 6 4 * 5 7 \n",
      "\n",
      "3 5 6 3 0 3 5 3 4 6 \n",
      "\n",
      "3 6 7 * 3 0 6 4 5 7 \n",
      "\n",
      "3 7 8 5 3 6 0 4 5 6 \n",
      "\n",
      "largest (x,y) is 8 at location (0,5)\n"
     ]
    }
   ],
   "source": [
    "from main import parsing\n",
    "import snake\n",
    "from grid import Grid,Direction\n",
    "from importlib import reload"
   ]
  },
  {
   "cell_type": "code",
   "execution_count": 2,
   "metadata": {},
   "outputs": [
    {
     "name": "stdout",
     "output_type": "stream",
     "text": [
      "[['1', '5', '3', '6', '3', '8', '5', '2', '6', '8'], ['6', '4', '*', '0', '5', '3', '7', '5', '2', '8'], ['3', '4', '5', '0', '3', '6', '4', '*', '5', '7'], ['3', '5', '6', '3', '0', '3', '5', '3', '4', '6'], ['3', '6', '7', '*', '3', '0', '6', '4', '5', '7'], ['3', '7', '8', '5', '3', '6', '0', '4', '5', '6']]\n"
     ]
    }
   ],
   "source": [
    "column,rows,number_of_snakes,snake_lengths,grid = parsing()\n",
    "print(grid)"
   ]
  },
  {
   "cell_type": "code",
   "execution_count": 3,
   "metadata": {},
   "outputs": [
    {
     "name": "stdout",
     "output_type": "stream",
     "text": [
      "Add (1, 2)\n",
      "Add (2, 7)\n",
      "Add (4, 3)\n",
      "[['1' '5' '3' '6' '3' '8' '5' '2' '6' '8']\n",
      " ['6' '4' '0' '0' '5' '3' '7' '5' '2' '8']\n",
      " ['3' '4' '5' '0' '3' '6' '4' '0' '5' '7']\n",
      " ['3' '5' '6' '3' '0' '3' '5' '3' '4' '6']\n",
      " ['3' '6' '7' '0' '3' '0' '6' '4' '5' '7']\n",
      " ['3' '7' '8' '5' '3' '6' '0' '4' '5' '6']]\n"
     ]
    }
   ],
   "source": [
    "glob_grid = Grid(grid)\n",
    "print(glob_grid.grid_weigths)"
   ]
  },
  {
   "cell_type": "code",
   "execution_count": 4,
   "metadata": {},
   "outputs": [
    {
     "name": "stdout",
     "output_type": "stream",
     "text": [
      "[(0, 0), (0, -1), (0, -2), (0, -3), (0, -4)]\n",
      "['1', '8', '6', '2', '5']\n"
     ]
    }
   ],
   "source": [
    "reload(snake)\n",
    "s = snake.Snake(grid=glob_grid)\n",
    "s.create_interactive(5,(0,0))\n",
    "for i in range(4):\n",
    "    s.int_mv_seg(Direction.L)\n",
    "print(s.segments)\n",
    "print([glob_grid.grid_weigths[id] for id in s.segments])"
   ]
  },
  {
   "cell_type": "code",
   "execution_count": null,
   "metadata": {},
   "outputs": [],
   "source": [
    "\n"
   ]
  }
 ],
 "metadata": {
  "kernelspec": {
   "display_name": ".venv",
   "language": "python",
   "name": "python3"
  },
  "language_info": {
   "codemirror_mode": {
    "name": "ipython",
    "version": 3
   },
   "file_extension": ".py",
   "mimetype": "text/x-python",
   "name": "python",
   "nbconvert_exporter": "python",
   "pygments_lexer": "ipython3",
   "version": "3.10.7"
  },
  "orig_nbformat": 4
 },
 "nbformat": 4,
 "nbformat_minor": 2
}
